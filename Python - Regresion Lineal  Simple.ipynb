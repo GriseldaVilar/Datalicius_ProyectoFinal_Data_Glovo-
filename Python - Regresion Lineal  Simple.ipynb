{
 "cells": [
  {
   "cell_type": "markdown",
   "id": "ccb4af76",
   "metadata": {},
   "source": [
    "-  REGRESION LINEAR Python Sklearn  - \n",
    "   2 VARIABLES\n",
    "\n",
    " Formula de Regresion Linear con dos variables : Y = mX + c\n",
    " \n",
    " Y = variable dependiente (columna: Price_new)\n",
    " X = variable independiente a elegir (columnas: a elegir) \n",
    " \n",
    " \n",
    " VARIABLES PROBADAS: \"Number of Reviews\", \"Bedrooms_new\", \"Bathrooms_new\", \"Accommodates\",  \"Beds_new\"\n",
    "                      \"Reviews Scores Value\" y \"Reviews Scores Rating\" tienen Not Defined y no funciona. \n",
    " "
   ]
  },
  {
   "cell_type": "code",
   "execution_count": 1,
   "id": "2a7c44f9",
   "metadata": {},
   "outputs": [],
   "source": [
    "import pandas as pd\n",
    "import numpy as np"
   ]
  },
  {
   "cell_type": "code",
   "execution_count": 2,
   "id": "aee92612",
   "metadata": {
    "scrolled": true
   },
   "outputs": [
    {
     "data": {
      "text/html": [
       "<div>\n",
       "<style scoped>\n",
       "    .dataframe tbody tr th:only-of-type {\n",
       "        vertical-align: middle;\n",
       "    }\n",
       "\n",
       "    .dataframe tbody tr th {\n",
       "        vertical-align: top;\n",
       "    }\n",
       "\n",
       "    .dataframe thead th {\n",
       "        text-align: right;\n",
       "    }\n",
       "</style>\n",
       "<table border=\"1\" class=\"dataframe\">\n",
       "  <thead>\n",
       "    <tr style=\"text-align: right;\">\n",
       "      <th></th>\n",
       "      <th>Unnamed: 0</th>\n",
       "      <th>ID</th>\n",
       "      <th>Listing Url</th>\n",
       "      <th>Name</th>\n",
       "      <th>Description</th>\n",
       "      <th>Host ID</th>\n",
       "      <th>Host Since</th>\n",
       "      <th>Host Response Rate</th>\n",
       "      <th>Host Total Listings Count</th>\n",
       "      <th>Host Verifications</th>\n",
       "      <th>...</th>\n",
       "      <th>Calculated host listings count</th>\n",
       "      <th>Geolocation</th>\n",
       "      <th>Price_new</th>\n",
       "      <th>Price_new_weekly</th>\n",
       "      <th>Price_new_monthly</th>\n",
       "      <th>Beds_new</th>\n",
       "      <th>Bedrooms_new</th>\n",
       "      <th>Bathrooms_new</th>\n",
       "      <th>Is Super Host</th>\n",
       "      <th>Is Super Host YES/NO</th>\n",
       "    </tr>\n",
       "  </thead>\n",
       "  <tbody>\n",
       "    <tr>\n",
       "      <th>0</th>\n",
       "      <td>0</td>\n",
       "      <td>15141125</td>\n",
       "      <td>https://www.airbnb.com/rooms/15141125</td>\n",
       "      <td>Panoramic charming studio!</td>\n",
       "      <td>Charming bright and cosy studio in \"El Rastro\"...</td>\n",
       "      <td>96019257</td>\n",
       "      <td>2016-09-20</td>\n",
       "      <td>100.0</td>\n",
       "      <td>2.0</td>\n",
       "      <td>email,phone,facebook,reviews,jumio,government_id</td>\n",
       "      <td>...</td>\n",
       "      <td>2.0</td>\n",
       "      <td>40.40745268477803, -3.7079954754432634</td>\n",
       "      <td>50.0</td>\n",
       "      <td>350.0</td>\n",
       "      <td>1500.0</td>\n",
       "      <td>1.0</td>\n",
       "      <td>0.0</td>\n",
       "      <td>1.0</td>\n",
       "      <td>True</td>\n",
       "      <td>Yes</td>\n",
       "    </tr>\n",
       "    <tr>\n",
       "      <th>1</th>\n",
       "      <td>1</td>\n",
       "      <td>9470166</td>\n",
       "      <td>https://www.airbnb.com/rooms/9470166</td>\n",
       "      <td>Comfortable penthouse in the center</td>\n",
       "      <td>In the center, recently remodeled, comfortable...</td>\n",
       "      <td>9885245</td>\n",
       "      <td>2013-11-08</td>\n",
       "      <td>100.0</td>\n",
       "      <td>13.0</td>\n",
       "      <td>email,phone,reviews,jumio</td>\n",
       "      <td>...</td>\n",
       "      <td>13.0</td>\n",
       "      <td>40.40831556101927, -3.705006385704201</td>\n",
       "      <td>50.0</td>\n",
       "      <td>350.0</td>\n",
       "      <td>1500.0</td>\n",
       "      <td>2.0</td>\n",
       "      <td>1.0</td>\n",
       "      <td>1.0</td>\n",
       "      <td>False</td>\n",
       "      <td>No</td>\n",
       "    </tr>\n",
       "    <tr>\n",
       "      <th>2</th>\n",
       "      <td>2</td>\n",
       "      <td>17444981</td>\n",
       "      <td>https://www.airbnb.com/rooms/17444981</td>\n",
       "      <td>Cosy Apartment SOL/LA LATINA</td>\n",
       "      <td>Nice apartment near Sol and La Latina. Perfect...</td>\n",
       "      <td>118059488</td>\n",
       "      <td>2017-02-25</td>\n",
       "      <td>100.0</td>\n",
       "      <td>1.0</td>\n",
       "      <td>email,phone,facebook,reviews,jumio,offline_gov...</td>\n",
       "      <td>...</td>\n",
       "      <td>1.0</td>\n",
       "      <td>40.413722014584295, -3.7068231186536718</td>\n",
       "      <td>77.0</td>\n",
       "      <td>539.0</td>\n",
       "      <td>2310.0</td>\n",
       "      <td>2.0</td>\n",
       "      <td>1.0</td>\n",
       "      <td>1.5</td>\n",
       "      <td>False</td>\n",
       "      <td>No</td>\n",
       "    </tr>\n",
       "    <tr>\n",
       "      <th>3</th>\n",
       "      <td>3</td>\n",
       "      <td>3284565</td>\n",
       "      <td>https://www.airbnb.com/rooms/3284565</td>\n",
       "      <td>Alquiler Estudio Nuevo Madrid</td>\n",
       "      <td>Alquilo estudio en el centro de Madrid , total...</td>\n",
       "      <td>1892467</td>\n",
       "      <td>2012-03-09</td>\n",
       "      <td>100.0</td>\n",
       "      <td>3.0</td>\n",
       "      <td>email,phone,reviews,jumio,government_id</td>\n",
       "      <td>...</td>\n",
       "      <td>3.0</td>\n",
       "      <td>40.411263372718054, -3.6973054373712886</td>\n",
       "      <td>50.0</td>\n",
       "      <td>300.0</td>\n",
       "      <td>740.0</td>\n",
       "      <td>2.0</td>\n",
       "      <td>1.0</td>\n",
       "      <td>1.0</td>\n",
       "      <td>False</td>\n",
       "      <td>No</td>\n",
       "    </tr>\n",
       "    <tr>\n",
       "      <th>4</th>\n",
       "      <td>4</td>\n",
       "      <td>499911</td>\n",
       "      <td>https://www.airbnb.com/rooms/499911</td>\n",
       "      <td>2 bedroom apartment downtown Madrid</td>\n",
       "      <td>Bright and airy apartment in Central Madrid re...</td>\n",
       "      <td>2467212</td>\n",
       "      <td>2012-05-26</td>\n",
       "      <td>100.0</td>\n",
       "      <td>1.0</td>\n",
       "      <td>email,phone,facebook,reviews,jumio</td>\n",
       "      <td>...</td>\n",
       "      <td>1.0</td>\n",
       "      <td>40.41255625665078, -3.701155364799422</td>\n",
       "      <td>95.0</td>\n",
       "      <td>590.0</td>\n",
       "      <td>2850.0</td>\n",
       "      <td>4.0</td>\n",
       "      <td>2.0</td>\n",
       "      <td>1.0</td>\n",
       "      <td>True</td>\n",
       "      <td>Yes</td>\n",
       "    </tr>\n",
       "  </tbody>\n",
       "</table>\n",
       "<p>5 rows × 43 columns</p>\n",
       "</div>"
      ],
      "text/plain": [
       "   Unnamed: 0        ID                            Listing Url  \\\n",
       "0           0  15141125  https://www.airbnb.com/rooms/15141125   \n",
       "1           1   9470166   https://www.airbnb.com/rooms/9470166   \n",
       "2           2  17444981  https://www.airbnb.com/rooms/17444981   \n",
       "3           3   3284565   https://www.airbnb.com/rooms/3284565   \n",
       "4           4    499911    https://www.airbnb.com/rooms/499911   \n",
       "\n",
       "                                  Name  \\\n",
       "0           Panoramic charming studio!   \n",
       "1  Comfortable penthouse in the center   \n",
       "2         Cosy Apartment SOL/LA LATINA   \n",
       "3        Alquiler Estudio Nuevo Madrid   \n",
       "4  2 bedroom apartment downtown Madrid   \n",
       "\n",
       "                                         Description    Host ID  Host Since  \\\n",
       "0  Charming bright and cosy studio in \"El Rastro\"...   96019257  2016-09-20   \n",
       "1  In the center, recently remodeled, comfortable...    9885245  2013-11-08   \n",
       "2  Nice apartment near Sol and La Latina. Perfect...  118059488  2017-02-25   \n",
       "3  Alquilo estudio en el centro de Madrid , total...    1892467  2012-03-09   \n",
       "4  Bright and airy apartment in Central Madrid re...    2467212  2012-05-26   \n",
       "\n",
       "  Host Response Rate Host Total Listings Count  \\\n",
       "0              100.0                       2.0   \n",
       "1              100.0                      13.0   \n",
       "2              100.0                       1.0   \n",
       "3              100.0                       3.0   \n",
       "4              100.0                       1.0   \n",
       "\n",
       "                                  Host Verifications  ...  \\\n",
       "0   email,phone,facebook,reviews,jumio,government_id  ...   \n",
       "1                          email,phone,reviews,jumio  ...   \n",
       "2  email,phone,facebook,reviews,jumio,offline_gov...  ...   \n",
       "3            email,phone,reviews,jumio,government_id  ...   \n",
       "4                 email,phone,facebook,reviews,jumio  ...   \n",
       "\n",
       "  Calculated host listings count                              Geolocation  \\\n",
       "0                            2.0   40.40745268477803, -3.7079954754432634   \n",
       "1                           13.0    40.40831556101927, -3.705006385704201   \n",
       "2                            1.0  40.413722014584295, -3.7068231186536718   \n",
       "3                            3.0  40.411263372718054, -3.6973054373712886   \n",
       "4                            1.0    40.41255625665078, -3.701155364799422   \n",
       "\n",
       "  Price_new Price_new_weekly Price_new_monthly Beds_new Bedrooms_new  \\\n",
       "0      50.0            350.0            1500.0      1.0          0.0   \n",
       "1      50.0            350.0            1500.0      2.0          1.0   \n",
       "2      77.0            539.0            2310.0      2.0          1.0   \n",
       "3      50.0            300.0             740.0      2.0          1.0   \n",
       "4      95.0            590.0            2850.0      4.0          2.0   \n",
       "\n",
       "  Bathrooms_new Is Super Host Is Super Host YES/NO  \n",
       "0           1.0          True                  Yes  \n",
       "1           1.0         False                   No  \n",
       "2           1.5         False                   No  \n",
       "3           1.0         False                   No  \n",
       "4           1.0          True                  Yes  \n",
       "\n",
       "[5 rows x 43 columns]"
      ]
     },
     "execution_count": 2,
     "metadata": {},
     "output_type": "execute_result"
    }
   ],
   "source": [
    "#Import data set\n",
    "df = pd.read_csv(r\"C:\\Users\\Jo\\Desktop\\Data Analytics\\data analytics\\Glovo_bootcamp\\Proyecto Final\\Proyecto_Final\\df_madridfinal.csv\", sep=\",\")\n",
    "df.head()"
   ]
  },
  {
   "cell_type": "markdown",
   "id": "453f40bb",
   "metadata": {},
   "source": [
    " \n",
    " - PRUEBA COLUMNAS:  \"Number of Reviews\" y \"Price_new\" \n",
    " "
   ]
  },
  {
   "cell_type": "code",
   "execution_count": 3,
   "id": "148c7264",
   "metadata": {
    "collapsed": true
   },
   "outputs": [
    {
     "data": {
      "text/html": [
       "<div>\n",
       "<style scoped>\n",
       "    .dataframe tbody tr th:only-of-type {\n",
       "        vertical-align: middle;\n",
       "    }\n",
       "\n",
       "    .dataframe tbody tr th {\n",
       "        vertical-align: top;\n",
       "    }\n",
       "\n",
       "    .dataframe thead th {\n",
       "        text-align: right;\n",
       "    }\n",
       "</style>\n",
       "<table border=\"1\" class=\"dataframe\">\n",
       "  <thead>\n",
       "    <tr style=\"text-align: right;\">\n",
       "      <th></th>\n",
       "      <th>Number of Reviews</th>\n",
       "      <th>Price_new</th>\n",
       "    </tr>\n",
       "  </thead>\n",
       "  <tbody>\n",
       "    <tr>\n",
       "      <th>0</th>\n",
       "      <td>30</td>\n",
       "      <td>50.0</td>\n",
       "    </tr>\n",
       "    <tr>\n",
       "      <th>1</th>\n",
       "      <td>97</td>\n",
       "      <td>50.0</td>\n",
       "    </tr>\n",
       "    <tr>\n",
       "      <th>2</th>\n",
       "      <td>7</td>\n",
       "      <td>77.0</td>\n",
       "    </tr>\n",
       "    <tr>\n",
       "      <th>3</th>\n",
       "      <td>6</td>\n",
       "      <td>50.0</td>\n",
       "    </tr>\n",
       "    <tr>\n",
       "      <th>4</th>\n",
       "      <td>72</td>\n",
       "      <td>95.0</td>\n",
       "    </tr>\n",
       "    <tr>\n",
       "      <th>...</th>\n",
       "      <td>...</td>\n",
       "      <td>...</td>\n",
       "    </tr>\n",
       "    <tr>\n",
       "      <th>12763</th>\n",
       "      <td>11</td>\n",
       "      <td>80.0</td>\n",
       "    </tr>\n",
       "    <tr>\n",
       "      <th>12764</th>\n",
       "      <td>85</td>\n",
       "      <td>80.0</td>\n",
       "    </tr>\n",
       "    <tr>\n",
       "      <th>12765</th>\n",
       "      <td>1</td>\n",
       "      <td>50.0</td>\n",
       "    </tr>\n",
       "    <tr>\n",
       "      <th>12766</th>\n",
       "      <td>122</td>\n",
       "      <td>70.0</td>\n",
       "    </tr>\n",
       "    <tr>\n",
       "      <th>12767</th>\n",
       "      <td>89</td>\n",
       "      <td>89.0</td>\n",
       "    </tr>\n",
       "  </tbody>\n",
       "</table>\n",
       "<p>12768 rows × 2 columns</p>\n",
       "</div>"
      ],
      "text/plain": [
       "       Number of Reviews  Price_new\n",
       "0                     30       50.0\n",
       "1                     97       50.0\n",
       "2                      7       77.0\n",
       "3                      6       50.0\n",
       "4                     72       95.0\n",
       "...                  ...        ...\n",
       "12763                 11       80.0\n",
       "12764                 85       80.0\n",
       "12765                  1       50.0\n",
       "12766                122       70.0\n",
       "12767                 89       89.0\n",
       "\n",
       "[12768 rows x 2 columns]"
      ]
     },
     "execution_count": 3,
     "metadata": {},
     "output_type": "execute_result"
    }
   ],
   "source": [
    "#Creamos un dataset con solo las columnas que nos sirven para hacer la regresion linear, Number of Reviews y Price_new\n",
    "prueba_reg1 = df[['Number of Reviews', 'Price_new']]\n",
    "\n",
    "prueba_reg1"
   ]
  },
  {
   "cell_type": "code",
   "execution_count": 4,
   "id": "ce6457d5",
   "metadata": {},
   "outputs": [],
   "source": [
    "# Definimos las dos variables X, y  con las columnas del dataset que elegimos.\n",
    "\n",
    "X = prueba_reg1['Number of Reviews']    \n",
    "y = prueba_reg1['Price_new']"
   ]
  },
  {
   "cell_type": "code",
   "execution_count": 5,
   "id": "15074484",
   "metadata": {},
   "outputs": [
    {
     "data": {
      "text/plain": [
       "5911      12\n",
       "3536      21\n",
       "5201      30\n",
       "11215     24\n",
       "9508     128\n",
       "        ... \n",
       "9704       4\n",
       "11190     11\n",
       "10185      0\n",
       "9256      91\n",
       "8787       2\n",
       "Name: Number of Reviews, Length: 7660, dtype: int64"
      ]
     },
     "execution_count": 5,
     "metadata": {},
     "output_type": "execute_result"
    }
   ],
   "source": [
    "# Dividimos el dataset en df de training y df de testing \n",
    "\n",
    "from sklearn.model_selection import train_test_split\n",
    "\n",
    "X_train, X_test, y_train, y_test = train_test_split(X, y, test_size= 0.4, random_state= 23)\n",
    "\n",
    "X_train"
   ]
  },
  {
   "cell_type": "code",
   "execution_count": 7,
   "id": "6ef2478e",
   "metadata": {},
   "outputs": [
    {
     "data": {
      "text/plain": [
       "array([[13],\n",
       "       [27],\n",
       "       [ 0],\n",
       "       ...,\n",
       "       [51],\n",
       "       [ 0],\n",
       "       [15]], dtype=int64)"
      ]
     },
     "execution_count": 7,
     "metadata": {},
     "output_type": "execute_result"
    }
   ],
   "source": [
    "# Modificamos el shape del output X_train y X_test para que sea bidimensional\n",
    "\n",
    "X_train = np.array(X_train).reshape(-1, 1)\n",
    "\n",
    "X_train\n",
    "\n"
   ]
  },
  {
   "cell_type": "code",
   "execution_count": 8,
   "id": "94cc1741",
   "metadata": {},
   "outputs": [
    {
     "data": {
      "text/plain": [
       "array([[13],\n",
       "       [27],\n",
       "       [ 0],\n",
       "       ...,\n",
       "       [51],\n",
       "       [ 0],\n",
       "       [15]], dtype=int64)"
      ]
     },
     "execution_count": 8,
     "metadata": {},
     "output_type": "execute_result"
    }
   ],
   "source": [
    "X_test = np.array(X_test).reshape(-1, 1)\n",
    "\n",
    "X_test"
   ]
  },
  {
   "cell_type": "code",
   "execution_count": 9,
   "id": "ed41f38f",
   "metadata": {},
   "outputs": [],
   "source": [
    "\n",
    "# Vamos a usar la funcion Linear Regression de la libreria sklearn.linear_model\n",
    "\n",
    "from sklearn.linear_model import LinearRegression\n",
    "\n",
    "# Ponemos la funcion LinearRegression en una variable llamada lr \n",
    "\n",
    "lr = LinearRegression()"
   ]
  },
  {
   "cell_type": "code",
   "execution_count": 10,
   "id": "1d6062ef",
   "metadata": {
    "scrolled": true
   },
   "outputs": [
    {
     "data": {
      "text/plain": [
       "LinearRegression()"
      ]
     },
     "execution_count": 10,
     "metadata": {},
     "output_type": "execute_result"
    }
   ],
   "source": [
    "# Ejecutamos el fitting de los datos X_train y y_train \n",
    "\n",
    "lr.fit(X_train, y_train)"
   ]
  },
  {
   "cell_type": "code",
   "execution_count": 11,
   "id": "fd532fdc",
   "metadata": {},
   "outputs": [
    {
     "data": {
      "text/plain": [
       "66.4230392735162"
      ]
     },
     "execution_count": 11,
     "metadata": {},
     "output_type": "execute_result"
    }
   ],
   "source": [
    "# Calcular valor c (interception)\n",
    "\n",
    "c= lr.intercept_\n",
    "\n",
    "c"
   ]
  },
  {
   "cell_type": "code",
   "execution_count": 12,
   "id": "2cbdc84a",
   "metadata": {},
   "outputs": [
    {
     "data": {
      "text/plain": [
       "array([-0.02942698])"
      ]
     },
     "execution_count": 12,
     "metadata": {},
     "output_type": "execute_result"
    }
   ],
   "source": [
    "# Calcular valor m (coefficient / slope of the regression line)\n",
    "\n",
    "m= lr.coef_ \n",
    "\n",
    "m"
   ]
  },
  {
   "cell_type": "code",
   "execution_count": 13,
   "id": "ce4426a4",
   "metadata": {},
   "outputs": [
    {
     "data": {
      "text/plain": [
       "array([66.06991554, 65.80507274, 65.54022994, ..., 66.42303927,\n",
       "       63.74518431, 66.36418532])"
      ]
     },
     "execution_count": 13,
     "metadata": {},
     "output_type": "execute_result"
    }
   ],
   "source": [
    "# En la libreria sklearn usamos la funcion predict() para hacer la prediccion de la variable Y, osea Price_New\n",
    "\n",
    "y_pred_train = lr.predict(X_train)\n",
    "\n",
    "y_pred_train"
   ]
  },
  {
   "cell_type": "code",
   "execution_count": 14,
   "id": "41684671",
   "metadata": {},
   "outputs": [
    {
     "data": {
      "image/png": "[encoded data removed]",
      "text/plain": [
       "<Figure size 640x480 with 1 Axes>"
      ]
     },
     "metadata": {},
     "output_type": "display_data"
    }
   ],
   "source": [
    "# Hacemos el grafico scatter + linea de Regresion \n",
    "\n",
    "import matplotlib.pyplot as plt\n",
    "\n",
    "plt.scatter(X_train, y_train)\n",
    "plt.plot(X_train, y_pred_train, color='red')\n",
    "plt.xlabel('Number of Reviews')\n",
    "plt.ylabel('Price_new')\n",
    "\n",
    "plt.show()"
   ]
  },
  {
   "cell_type": "markdown",
   "id": "8d17e1b0",
   "metadata": {},
   "source": [
    " \n",
    " - PRUEBA COLUMNAS:  \"Bedrooms_new\" y \"Price_new\" "
   ]
  },
  {
   "cell_type": "code",
   "execution_count": 15,
   "id": "a91dbc57",
   "metadata": {},
   "outputs": [
    {
     "data": {
      "text/html": [
       "<div>\n",
       "<style scoped>\n",
       "    .dataframe tbody tr th:only-of-type {\n",
       "        vertical-align: middle;\n",
       "    }\n",
       "\n",
       "    .dataframe tbody tr th {\n",
       "        vertical-align: top;\n",
       "    }\n",
       "\n",
       "    .dataframe thead th {\n",
       "        text-align: right;\n",
       "    }\n",
       "</style>\n",
       "<table border=\"1\" class=\"dataframe\">\n",
       "  <thead>\n",
       "    <tr style=\"text-align: right;\">\n",
       "      <th></th>\n",
       "      <th>Bedrooms_new</th>\n",
       "      <th>Price_new</th>\n",
       "    </tr>\n",
       "  </thead>\n",
       "  <tbody>\n",
       "    <tr>\n",
       "      <th>0</th>\n",
       "      <td>0.0</td>\n",
       "      <td>50.0</td>\n",
       "    </tr>\n",
       "    <tr>\n",
       "      <th>1</th>\n",
       "      <td>1.0</td>\n",
       "      <td>50.0</td>\n",
       "    </tr>\n",
       "    <tr>\n",
       "      <th>2</th>\n",
       "      <td>1.0</td>\n",
       "      <td>77.0</td>\n",
       "    </tr>\n",
       "    <tr>\n",
       "      <th>3</th>\n",
       "      <td>1.0</td>\n",
       "      <td>50.0</td>\n",
       "    </tr>\n",
       "    <tr>\n",
       "      <th>4</th>\n",
       "      <td>2.0</td>\n",
       "      <td>95.0</td>\n",
       "    </tr>\n",
       "    <tr>\n",
       "      <th>...</th>\n",
       "      <td>...</td>\n",
       "      <td>...</td>\n",
       "    </tr>\n",
       "    <tr>\n",
       "      <th>12763</th>\n",
       "      <td>1.0</td>\n",
       "      <td>80.0</td>\n",
       "    </tr>\n",
       "    <tr>\n",
       "      <th>12764</th>\n",
       "      <td>1.0</td>\n",
       "      <td>80.0</td>\n",
       "    </tr>\n",
       "    <tr>\n",
       "      <th>12765</th>\n",
       "      <td>1.0</td>\n",
       "      <td>50.0</td>\n",
       "    </tr>\n",
       "    <tr>\n",
       "      <th>12766</th>\n",
       "      <td>1.0</td>\n",
       "      <td>70.0</td>\n",
       "    </tr>\n",
       "    <tr>\n",
       "      <th>12767</th>\n",
       "      <td>2.0</td>\n",
       "      <td>89.0</td>\n",
       "    </tr>\n",
       "  </tbody>\n",
       "</table>\n",
       "<p>12768 rows × 2 columns</p>\n",
       "</div>"
      ],
      "text/plain": [
       "       Bedrooms_new  Price_new\n",
       "0               0.0       50.0\n",
       "1               1.0       50.0\n",
       "2               1.0       77.0\n",
       "3               1.0       50.0\n",
       "4               2.0       95.0\n",
       "...             ...        ...\n",
       "12763           1.0       80.0\n",
       "12764           1.0       80.0\n",
       "12765           1.0       50.0\n",
       "12766           1.0       70.0\n",
       "12767           2.0       89.0\n",
       "\n",
       "[12768 rows x 2 columns]"
      ]
     },
     "execution_count": 15,
     "metadata": {},
     "output_type": "execute_result"
    }
   ],
   "source": [
    "#Creamos un dataset con solo las columnas Bedrooms_new y Price_new\n",
    "prueba_reg2 = df[['Bedrooms_new', 'Price_new']]\n",
    "\n",
    "prueba_reg2"
   ]
  },
  {
   "cell_type": "code",
   "execution_count": 16,
   "id": "72682110",
   "metadata": {},
   "outputs": [],
   "source": [
    "# Definimos las dos variables X, y  con las columnas del dataset que elegimos.\n",
    "\n",
    "X = prueba_reg2['Bedrooms_new']    \n",
    "y = prueba_reg2['Price_new']"
   ]
  },
  {
   "cell_type": "code",
   "execution_count": 17,
   "id": "d8ba88e9",
   "metadata": {},
   "outputs": [
    {
     "data": {
      "text/plain": [
       "5911     1.0\n",
       "3536     1.0\n",
       "5201     0.0\n",
       "11215    1.0\n",
       "9508     1.0\n",
       "        ... \n",
       "9704     1.0\n",
       "11190    1.0\n",
       "10185    1.0\n",
       "9256     1.0\n",
       "8787     1.0\n",
       "Name: Bedrooms_new, Length: 7660, dtype: float64"
      ]
     },
     "execution_count": 17,
     "metadata": {},
     "output_type": "execute_result"
    }
   ],
   "source": [
    "# Dividimos el dataset en df de training y df de testing \n",
    "\n",
    "from sklearn.model_selection import train_test_split\n",
    "\n",
    "X_train, X_test, y_train, y_test = train_test_split(X, y, test_size= 0.4, random_state= 23)\n",
    "\n",
    "X_train"
   ]
  },
  {
   "cell_type": "code",
   "execution_count": 18,
   "id": "0098075f",
   "metadata": {},
   "outputs": [
    {
     "data": {
      "text/plain": [
       "array([[1.],\n",
       "       [1.],\n",
       "       [0.],\n",
       "       ...,\n",
       "       [1.],\n",
       "       [1.],\n",
       "       [1.]])"
      ]
     },
     "execution_count": 18,
     "metadata": {},
     "output_type": "execute_result"
    }
   ],
   "source": [
    "# Modificamos el shape del output X_train y X_test para que sea bidimensional\n",
    "\n",
    "X_train = np.array(X_train).reshape(-1, 1)\n",
    "\n",
    "X_train"
   ]
  },
  {
   "cell_type": "code",
   "execution_count": 19,
   "id": "7a9297e8",
   "metadata": {},
   "outputs": [
    {
     "data": {
      "text/plain": [
       "array([[1.],\n",
       "       [1.],\n",
       "       [0.],\n",
       "       ...,\n",
       "       [1.],\n",
       "       [1.],\n",
       "       [1.]])"
      ]
     },
     "execution_count": 19,
     "metadata": {},
     "output_type": "execute_result"
    }
   ],
   "source": [
    "X_test = np.array(X_train).reshape(-1, 1)\n",
    "\n",
    "X_test"
   ]
  },
  {
   "cell_type": "code",
   "execution_count": 20,
   "id": "8b027bea",
   "metadata": {},
   "outputs": [],
   "source": [
    "# Vamos a usar la funcion Linear Regression de la libreria sklearn.linear_model\n",
    "\n",
    "from sklearn.linear_model import LinearRegression\n",
    "\n",
    "# Ponemos la funcion LinearRegression en una variable llamada lr \n",
    "\n",
    "lr = LinearRegression()"
   ]
  },
  {
   "cell_type": "code",
   "execution_count": 21,
   "id": "b91cca64",
   "metadata": {},
   "outputs": [
    {
     "data": {
      "text/plain": [
       "LinearRegression()"
      ]
     },
     "execution_count": 21,
     "metadata": {},
     "output_type": "execute_result"
    }
   ],
   "source": [
    "# Ejecutamos el fitting de los datos X_train y y_train \n",
    "\n",
    "lr.fit(X_train, y_train)"
   ]
  },
  {
   "cell_type": "code",
   "execution_count": 22,
   "id": "f0cfc32e",
   "metadata": {},
   "outputs": [
    {
     "data": {
      "text/plain": [
       "22.063206678685987"
      ]
     },
     "execution_count": 22,
     "metadata": {},
     "output_type": "execute_result"
    }
   ],
   "source": [
    "# Calcular valor c (interception)\n",
    "\n",
    "c= lr.intercept_\n",
    "\n",
    "c"
   ]
  },
  {
   "cell_type": "code",
   "execution_count": 23,
   "id": "e48dfe02",
   "metadata": {},
   "outputs": [
    {
     "data": {
      "text/plain": [
       "array([33.85632986])"
      ]
     },
     "execution_count": 23,
     "metadata": {},
     "output_type": "execute_result"
    }
   ],
   "source": [
    "# Calcular valor m (coefficient / slope of the regression line)\n",
    "\n",
    "m= lr.coef_ \n",
    "\n",
    "m"
   ]
  },
  {
   "cell_type": "code",
   "execution_count": 24,
   "id": "5939e501",
   "metadata": {},
   "outputs": [
    {
     "data": {
      "text/plain": [
       "array([55.91953653, 55.91953653, 22.06320668, ..., 55.91953653,\n",
       "       55.91953653, 55.91953653])"
      ]
     },
     "execution_count": 24,
     "metadata": {},
     "output_type": "execute_result"
    }
   ],
   "source": [
    "# En la libreria sklearn usamos la funcion predict() para hacer la prediccion de la variable Y, osea Price_New\n",
    "\n",
    "y_pred_train2 = lr.predict(X_train)\n",
    "\n",
    "y_pred_train2"
   ]
  },
  {
   "cell_type": "code",
   "execution_count": 25,
   "id": "de4b4305",
   "metadata": {},
   "outputs": [
    {
     "data": {
      "image/png": "[encoded data removed]",
      "text/plain": [
       "<Figure size 640x480 with 1 Axes>"
      ]
     },
     "metadata": {},
     "output_type": "display_data"
    }
   ],
   "source": [
    "# Hacemos el grafico scatter + linea de Regresion \n",
    "\n",
    "import matplotlib.pyplot as plt\n",
    "\n",
    "plt.scatter(X_train, y_train)\n",
    "plt.plot(X_train, y_pred_train2, color='red')\n",
    "plt.xlabel('Bedrooms_new')\n",
    "plt.ylabel('Price_new')\n",
    "\n",
    "plt.show()"
   ]
  },
  {
   "cell_type": "markdown",
   "id": "37ce50ee",
   "metadata": {},
   "source": [
    "\n",
    "- PRUEBA COLUMNAS:  \"Bathrooms_new\" y \"Price_new\" \n"
   ]
  },
  {
   "cell_type": "code",
   "execution_count": 26,
   "id": "3caa10a3",
   "metadata": {},
   "outputs": [
    {
     "data": {
      "text/html": [
       "<div>\n",
       "<style scoped>\n",
       "    .dataframe tbody tr th:only-of-type {\n",
       "        vertical-align: middle;\n",
       "    }\n",
       "\n",
       "    .dataframe tbody tr th {\n",
       "        vertical-align: top;\n",
       "    }\n",
       "\n",
       "    .dataframe thead th {\n",
       "        text-align: right;\n",
       "    }\n",
       "</style>\n",
       "<table border=\"1\" class=\"dataframe\">\n",
       "  <thead>\n",
       "    <tr style=\"text-align: right;\">\n",
       "      <th></th>\n",
       "      <th>Bathrooms_new</th>\n",
       "      <th>Price_new</th>\n",
       "    </tr>\n",
       "  </thead>\n",
       "  <tbody>\n",
       "    <tr>\n",
       "      <th>0</th>\n",
       "      <td>1.0</td>\n",
       "      <td>50.0</td>\n",
       "    </tr>\n",
       "    <tr>\n",
       "      <th>1</th>\n",
       "      <td>1.0</td>\n",
       "      <td>50.0</td>\n",
       "    </tr>\n",
       "    <tr>\n",
       "      <th>2</th>\n",
       "      <td>1.5</td>\n",
       "      <td>77.0</td>\n",
       "    </tr>\n",
       "    <tr>\n",
       "      <th>3</th>\n",
       "      <td>1.0</td>\n",
       "      <td>50.0</td>\n",
       "    </tr>\n",
       "    <tr>\n",
       "      <th>4</th>\n",
       "      <td>1.0</td>\n",
       "      <td>95.0</td>\n",
       "    </tr>\n",
       "    <tr>\n",
       "      <th>...</th>\n",
       "      <td>...</td>\n",
       "      <td>...</td>\n",
       "    </tr>\n",
       "    <tr>\n",
       "      <th>12763</th>\n",
       "      <td>1.0</td>\n",
       "      <td>80.0</td>\n",
       "    </tr>\n",
       "    <tr>\n",
       "      <th>12764</th>\n",
       "      <td>1.0</td>\n",
       "      <td>80.0</td>\n",
       "    </tr>\n",
       "    <tr>\n",
       "      <th>12765</th>\n",
       "      <td>2.0</td>\n",
       "      <td>50.0</td>\n",
       "    </tr>\n",
       "    <tr>\n",
       "      <th>12766</th>\n",
       "      <td>1.0</td>\n",
       "      <td>70.0</td>\n",
       "    </tr>\n",
       "    <tr>\n",
       "      <th>12767</th>\n",
       "      <td>1.0</td>\n",
       "      <td>89.0</td>\n",
       "    </tr>\n",
       "  </tbody>\n",
       "</table>\n",
       "<p>12768 rows × 2 columns</p>\n",
       "</div>"
      ],
      "text/plain": [
       "       Bathrooms_new  Price_new\n",
       "0                1.0       50.0\n",
       "1                1.0       50.0\n",
       "2                1.5       77.0\n",
       "3                1.0       50.0\n",
       "4                1.0       95.0\n",
       "...              ...        ...\n",
       "12763            1.0       80.0\n",
       "12764            1.0       80.0\n",
       "12765            2.0       50.0\n",
       "12766            1.0       70.0\n",
       "12767            1.0       89.0\n",
       "\n",
       "[12768 rows x 2 columns]"
      ]
     },
     "execution_count": 26,
     "metadata": {},
     "output_type": "execute_result"
    }
   ],
   "source": [
    "#Creamos un dataset con solo las columnas Bathrooms_new y Price_new\n",
    "prueba_reg3 = df[['Bathrooms_new', 'Price_new']]\n",
    "\n",
    "prueba_reg3"
   ]
  },
  {
   "cell_type": "code",
   "execution_count": 27,
   "id": "c22d1480",
   "metadata": {},
   "outputs": [],
   "source": [
    "# Definimos las dos variables X, y  con las columnas del dataset que elegimos.\n",
    "\n",
    "X = prueba_reg3['Bathrooms_new']    \n",
    "y = prueba_reg3['Price_new']"
   ]
  },
  {
   "cell_type": "code",
   "execution_count": 28,
   "id": "4b2f0f68",
   "metadata": {},
   "outputs": [
    {
     "data": {
      "text/plain": [
       "5911     1.0\n",
       "3536     1.0\n",
       "5201     1.0\n",
       "11215    1.0\n",
       "9508     2.0\n",
       "        ... \n",
       "9704     1.0\n",
       "11190    1.0\n",
       "10185    3.0\n",
       "9256     1.0\n",
       "8787     1.0\n",
       "Name: Bathrooms_new, Length: 7660, dtype: float64"
      ]
     },
     "execution_count": 28,
     "metadata": {},
     "output_type": "execute_result"
    }
   ],
   "source": [
    "# Dividimos el dataset en df de training y df de testing \n",
    "\n",
    "from sklearn.model_selection import train_test_split\n",
    "\n",
    "X_train, X_test, y_train, y_test = train_test_split(X, y, test_size= 0.4, random_state= 23)\n",
    "\n",
    "X_train"
   ]
  },
  {
   "cell_type": "code",
   "execution_count": 29,
   "id": "427bb7a5",
   "metadata": {},
   "outputs": [
    {
     "data": {
      "text/plain": [
       "array([[1.],\n",
       "       [1.],\n",
       "       [1.],\n",
       "       ...,\n",
       "       [3.],\n",
       "       [1.],\n",
       "       [1.]])"
      ]
     },
     "execution_count": 29,
     "metadata": {},
     "output_type": "execute_result"
    }
   ],
   "source": [
    "# Modificamos el shape del output X_train y X_test para que sea bidimensional\n",
    "\n",
    "X_train = np.array(X_train).reshape(-1, 1)\n",
    "\n",
    "X_train"
   ]
  },
  {
   "cell_type": "code",
   "execution_count": 30,
   "id": "f7a8a5ad",
   "metadata": {},
   "outputs": [
    {
     "data": {
      "text/plain": [
       "array([[1.],\n",
       "       [1.],\n",
       "       [1.],\n",
       "       ...,\n",
       "       [3.],\n",
       "       [1.],\n",
       "       [1.]])"
      ]
     },
     "execution_count": 30,
     "metadata": {},
     "output_type": "execute_result"
    }
   ],
   "source": [
    "X_test = np.array(X_train).reshape(-1, 1)\n",
    "\n",
    "X_test"
   ]
  },
  {
   "cell_type": "code",
   "execution_count": 31,
   "id": "a443c6a6",
   "metadata": {},
   "outputs": [],
   "source": [
    "# Vamos a usar la funcion Linear Regression de la libreria sklearn.linear_model\n",
    "\n",
    "from sklearn.linear_model import LinearRegression\n",
    "\n",
    "# Ponemos la funcion LinearRegression en una variable llamada lr \n",
    "\n",
    "lr = LinearRegression()"
   ]
  },
  {
   "cell_type": "code",
   "execution_count": 32,
   "id": "c8862840",
   "metadata": {},
   "outputs": [
    {
     "data": {
      "text/plain": [
       "LinearRegression()"
      ]
     },
     "execution_count": 32,
     "metadata": {},
     "output_type": "execute_result"
    }
   ],
   "source": [
    "# Ejecutamos el fitting de los datos X_train y y_train \n",
    "\n",
    "lr.fit(X_train, y_train)"
   ]
  },
  {
   "cell_type": "code",
   "execution_count": 33,
   "id": "b3c853f0",
   "metadata": {},
   "outputs": [
    {
     "data": {
      "text/plain": [
       "29.6486202040574"
      ]
     },
     "execution_count": 33,
     "metadata": {},
     "output_type": "execute_result"
    }
   ],
   "source": [
    "# Calcular valor c (interception)\n",
    "\n",
    "c= lr.intercept_\n",
    "\n",
    "c"
   ]
  },
  {
   "cell_type": "code",
   "execution_count": 34,
   "id": "7e3527ee",
   "metadata": {},
   "outputs": [
    {
     "data": {
      "text/plain": [
       "array([28.69297297])"
      ]
     },
     "execution_count": 34,
     "metadata": {},
     "output_type": "execute_result"
    }
   ],
   "source": [
    "# Calcular valor m (coefficient / slope of the regression line)\n",
    "\n",
    "m= lr.coef_ \n",
    "\n",
    "m"
   ]
  },
  {
   "cell_type": "code",
   "execution_count": 35,
   "id": "0d65ba27",
   "metadata": {},
   "outputs": [
    {
     "data": {
      "text/plain": [
       "array([ 58.34159318,  58.34159318,  58.34159318, ..., 115.72753912,\n",
       "        58.34159318,  58.34159318])"
      ]
     },
     "execution_count": 35,
     "metadata": {},
     "output_type": "execute_result"
    }
   ],
   "source": [
    "# En la libreria sklearn usamos la funcion predict() para hacer la prediccion de la variable Y, osea Price_New\n",
    "\n",
    "y_pred_train3 = lr.predict(X_train)\n",
    "\n",
    "y_pred_train3"
   ]
  },
  {
   "cell_type": "code",
   "execution_count": 36,
   "id": "6c8a54f9",
   "metadata": {},
   "outputs": [
    {
     "data": {
      "image/png": "[encoded data removed]",
      "text/plain": [
       "<Figure size 640x480 with 1 Axes>"
      ]
     },
     "metadata": {},
     "output_type": "display_data"
    }
   ],
   "source": [
    "# Hacemos el grafico scatter + linea de Regresion \n",
    "\n",
    "import matplotlib.pyplot as plt\n",
    "\n",
    "plt.scatter(X_train, y_train)\n",
    "plt.plot(X_train, y_pred_train3, color='red')\n",
    "plt.xlabel('Bathrooms_new')\n",
    "plt.ylabel('Price_new')\n",
    "\n",
    "plt.show()"
   ]
  },
  {
   "cell_type": "markdown",
   "id": "913947b2",
   "metadata": {},
   "source": [
    "\n",
    "- PRUEBA COLUMNAS:  \"Accomodates\" y \"Price_new\" \n",
    "\n"
   ]
  },
  {
   "cell_type": "code",
   "execution_count": 38,
   "id": "f3d52116",
   "metadata": {},
   "outputs": [
    {
     "data": {
      "text/html": [
       "<div>\n",
       "<style scoped>\n",
       "    .dataframe tbody tr th:only-of-type {\n",
       "        vertical-align: middle;\n",
       "    }\n",
       "\n",
       "    .dataframe tbody tr th {\n",
       "        vertical-align: top;\n",
       "    }\n",
       "\n",
       "    .dataframe thead th {\n",
       "        text-align: right;\n",
       "    }\n",
       "</style>\n",
       "<table border=\"1\" class=\"dataframe\">\n",
       "  <thead>\n",
       "    <tr style=\"text-align: right;\">\n",
       "      <th></th>\n",
       "      <th>Accommodates</th>\n",
       "      <th>Price_new</th>\n",
       "    </tr>\n",
       "  </thead>\n",
       "  <tbody>\n",
       "    <tr>\n",
       "      <th>0</th>\n",
       "      <td>2</td>\n",
       "      <td>50.0</td>\n",
       "    </tr>\n",
       "    <tr>\n",
       "      <th>1</th>\n",
       "      <td>4</td>\n",
       "      <td>50.0</td>\n",
       "    </tr>\n",
       "    <tr>\n",
       "      <th>2</th>\n",
       "      <td>4</td>\n",
       "      <td>77.0</td>\n",
       "    </tr>\n",
       "    <tr>\n",
       "      <th>3</th>\n",
       "      <td>2</td>\n",
       "      <td>50.0</td>\n",
       "    </tr>\n",
       "    <tr>\n",
       "      <th>4</th>\n",
       "      <td>5</td>\n",
       "      <td>95.0</td>\n",
       "    </tr>\n",
       "    <tr>\n",
       "      <th>...</th>\n",
       "      <td>...</td>\n",
       "      <td>...</td>\n",
       "    </tr>\n",
       "    <tr>\n",
       "      <th>12763</th>\n",
       "      <td>4</td>\n",
       "      <td>80.0</td>\n",
       "    </tr>\n",
       "    <tr>\n",
       "      <th>12764</th>\n",
       "      <td>4</td>\n",
       "      <td>80.0</td>\n",
       "    </tr>\n",
       "    <tr>\n",
       "      <th>12765</th>\n",
       "      <td>3</td>\n",
       "      <td>50.0</td>\n",
       "    </tr>\n",
       "    <tr>\n",
       "      <th>12766</th>\n",
       "      <td>4</td>\n",
       "      <td>70.0</td>\n",
       "    </tr>\n",
       "    <tr>\n",
       "      <th>12767</th>\n",
       "      <td>6</td>\n",
       "      <td>89.0</td>\n",
       "    </tr>\n",
       "  </tbody>\n",
       "</table>\n",
       "<p>12768 rows × 2 columns</p>\n",
       "</div>"
      ],
      "text/plain": [
       "       Accommodates  Price_new\n",
       "0                 2       50.0\n",
       "1                 4       50.0\n",
       "2                 4       77.0\n",
       "3                 2       50.0\n",
       "4                 5       95.0\n",
       "...             ...        ...\n",
       "12763             4       80.0\n",
       "12764             4       80.0\n",
       "12765             3       50.0\n",
       "12766             4       70.0\n",
       "12767             6       89.0\n",
       "\n",
       "[12768 rows x 2 columns]"
      ]
     },
     "execution_count": 38,
     "metadata": {},
     "output_type": "execute_result"
    }
   ],
   "source": [
    "#Creamos un dataset con solo las columnas Accommodates y Price_new\n",
    "prueba_reg4 = df[['Accommodates', 'Price_new']]\n",
    "\n",
    "prueba_reg4"
   ]
  },
  {
   "cell_type": "code",
   "execution_count": 39,
   "id": "a31c978a",
   "metadata": {},
   "outputs": [],
   "source": [
    "# Definimos las dos variables X, y  con las columnas del dataset que elegimos.\n",
    "\n",
    "X = prueba_reg4['Accommodates']    \n",
    "y = prueba_reg4['Price_new']"
   ]
  },
  {
   "cell_type": "code",
   "execution_count": 40,
   "id": "76f6e414",
   "metadata": {},
   "outputs": [
    {
     "data": {
      "text/plain": [
       "5911     2\n",
       "3536     4\n",
       "5201     2\n",
       "11215    3\n",
       "9508     2\n",
       "        ..\n",
       "9704     6\n",
       "11190    2\n",
       "10185    2\n",
       "9256     2\n",
       "8787     4\n",
       "Name: Accommodates, Length: 7660, dtype: int64"
      ]
     },
     "execution_count": 40,
     "metadata": {},
     "output_type": "execute_result"
    }
   ],
   "source": [
    "# Dividimos el dataset en df de training y df de testing \n",
    "\n",
    "from sklearn.model_selection import train_test_split\n",
    "\n",
    "X_train, X_test, y_train, y_test = train_test_split(X, y, test_size= 0.4, random_state= 23)\n",
    "\n",
    "X_train"
   ]
  },
  {
   "cell_type": "code",
   "execution_count": 41,
   "id": "fcb17bae",
   "metadata": {},
   "outputs": [
    {
     "data": {
      "text/plain": [
       "array([[2],\n",
       "       [4],\n",
       "       [2],\n",
       "       ...,\n",
       "       [2],\n",
       "       [2],\n",
       "       [4]], dtype=int64)"
      ]
     },
     "execution_count": 41,
     "metadata": {},
     "output_type": "execute_result"
    }
   ],
   "source": [
    "# Modificamos el shape del output X_train y X_test para que sea bidimensional\n",
    "\n",
    "X_train = np.array(X_train).reshape(-1, 1)\n",
    "\n",
    "X_train"
   ]
  },
  {
   "cell_type": "code",
   "execution_count": 42,
   "id": "07657fbf",
   "metadata": {},
   "outputs": [
    {
     "data": {
      "text/plain": [
       "array([[2],\n",
       "       [4],\n",
       "       [2],\n",
       "       ...,\n",
       "       [2],\n",
       "       [2],\n",
       "       [4]], dtype=int64)"
      ]
     },
     "execution_count": 42,
     "metadata": {},
     "output_type": "execute_result"
    }
   ],
   "source": [
    "X_test = np.array(X_train).reshape(-1, 1)\n",
    "\n",
    "X_test"
   ]
  },
  {
   "cell_type": "code",
   "execution_count": 43,
   "id": "ec71fe66",
   "metadata": {},
   "outputs": [],
   "source": [
    "# Vamos a usar la funcion Linear Regression de la libreria sklearn.linear_model\n",
    "\n",
    "from sklearn.linear_model import LinearRegression\n",
    "\n",
    "# Ponemos la funcion LinearRegression en una variable llamada lr \n",
    "\n",
    "lr = LinearRegression()"
   ]
  },
  {
   "cell_type": "code",
   "execution_count": 44,
   "id": "42903182",
   "metadata": {},
   "outputs": [
    {
     "data": {
      "text/plain": [
       "LinearRegression()"
      ]
     },
     "execution_count": 44,
     "metadata": {},
     "output_type": "execute_result"
    }
   ],
   "source": [
    "# Ejecutamos el fitting de los datos X_train y y_train \n",
    "\n",
    "lr.fit(X_train, y_train)"
   ]
  },
  {
   "cell_type": "code",
   "execution_count": 45,
   "id": "9a3f4aad",
   "metadata": {},
   "outputs": [
    {
     "data": {
      "text/plain": [
       "14.745126767169353"
      ]
     },
     "execution_count": 45,
     "metadata": {},
     "output_type": "execute_result"
    }
   ],
   "source": [
    "# Calcular valor c (interception)\n",
    "\n",
    "c= lr.intercept_\n",
    "\n",
    "c"
   ]
  },
  {
   "cell_type": "code",
   "execution_count": 46,
   "id": "c4d0785f",
   "metadata": {},
   "outputs": [
    {
     "data": {
      "text/plain": [
       "array([16.02682421])"
      ]
     },
     "execution_count": 46,
     "metadata": {},
     "output_type": "execute_result"
    }
   ],
   "source": [
    "# Calcular valor m (coefficient / slope of the regression line)\n",
    "\n",
    "m= lr.coef_ \n",
    "\n",
    "m"
   ]
  },
  {
   "cell_type": "code",
   "execution_count": 48,
   "id": "8bf8c9ce",
   "metadata": {},
   "outputs": [
    {
     "data": {
      "text/plain": [
       "array([46.79877518, 78.8524236 , 46.79877518, ..., 46.79877518,\n",
       "       46.79877518, 78.8524236 ])"
      ]
     },
     "execution_count": 48,
     "metadata": {},
     "output_type": "execute_result"
    }
   ],
   "source": [
    "# En la libreria sklearn usamos la funcion predict() para hacer la prediccion de la variable Y, osea Price_New\n",
    "\n",
    "y_pred_train4 = lr.predict(X_train)\n",
    "\n",
    "y_pred_train4"
   ]
  },
  {
   "cell_type": "code",
   "execution_count": 49,
   "id": "363a6207",
   "metadata": {},
   "outputs": [
    {
     "data": {
      "image/png": "[encoded data removed]",
      "text/plain": [
       "<Figure size 640x480 with 1 Axes>"
      ]
     },
     "metadata": {},
     "output_type": "display_data"
    }
   ],
   "source": [
    "# Hacemos el grafico scatter + linea de Regresion \n",
    "\n",
    "import matplotlib.pyplot as plt\n",
    "\n",
    "plt.scatter(X_train, y_train)\n",
    "plt.plot(X_train, y_pred_train4, color='red')\n",
    "plt.xlabel('Accommodates')\n",
    "plt.ylabel('Price_new')\n",
    "\n",
    "plt.show()"
   ]
  },
  {
   "cell_type": "markdown",
   "id": "6b5346bf",
   "metadata": {},
   "source": [
    "\n",
    "- PRUEBA COLUMNAS: \"Beds_new\" y  \"Price_new\"\n"
   ]
  },
  {
   "cell_type": "code",
   "execution_count": 66,
   "id": "842a3ed0",
   "metadata": {},
   "outputs": [
    {
     "data": {
      "text/html": [
       "<div>\n",
       "<style scoped>\n",
       "    .dataframe tbody tr th:only-of-type {\n",
       "        vertical-align: middle;\n",
       "    }\n",
       "\n",
       "    .dataframe tbody tr th {\n",
       "        vertical-align: top;\n",
       "    }\n",
       "\n",
       "    .dataframe thead th {\n",
       "        text-align: right;\n",
       "    }\n",
       "</style>\n",
       "<table border=\"1\" class=\"dataframe\">\n",
       "  <thead>\n",
       "    <tr style=\"text-align: right;\">\n",
       "      <th></th>\n",
       "      <th>Beds_new</th>\n",
       "      <th>Price_new</th>\n",
       "    </tr>\n",
       "  </thead>\n",
       "  <tbody>\n",
       "    <tr>\n",
       "      <th>0</th>\n",
       "      <td>1.0</td>\n",
       "      <td>50.0</td>\n",
       "    </tr>\n",
       "    <tr>\n",
       "      <th>1</th>\n",
       "      <td>2.0</td>\n",
       "      <td>50.0</td>\n",
       "    </tr>\n",
       "    <tr>\n",
       "      <th>2</th>\n",
       "      <td>2.0</td>\n",
       "      <td>77.0</td>\n",
       "    </tr>\n",
       "    <tr>\n",
       "      <th>3</th>\n",
       "      <td>2.0</td>\n",
       "      <td>50.0</td>\n",
       "    </tr>\n",
       "    <tr>\n",
       "      <th>4</th>\n",
       "      <td>4.0</td>\n",
       "      <td>95.0</td>\n",
       "    </tr>\n",
       "    <tr>\n",
       "      <th>...</th>\n",
       "      <td>...</td>\n",
       "      <td>...</td>\n",
       "    </tr>\n",
       "    <tr>\n",
       "      <th>12763</th>\n",
       "      <td>1.0</td>\n",
       "      <td>80.0</td>\n",
       "    </tr>\n",
       "    <tr>\n",
       "      <th>12764</th>\n",
       "      <td>3.0</td>\n",
       "      <td>80.0</td>\n",
       "    </tr>\n",
       "    <tr>\n",
       "      <th>12765</th>\n",
       "      <td>2.0</td>\n",
       "      <td>50.0</td>\n",
       "    </tr>\n",
       "    <tr>\n",
       "      <th>12766</th>\n",
       "      <td>2.0</td>\n",
       "      <td>70.0</td>\n",
       "    </tr>\n",
       "    <tr>\n",
       "      <th>12767</th>\n",
       "      <td>4.0</td>\n",
       "      <td>89.0</td>\n",
       "    </tr>\n",
       "  </tbody>\n",
       "</table>\n",
       "<p>12768 rows × 2 columns</p>\n",
       "</div>"
      ],
      "text/plain": [
       "       Beds_new  Price_new\n",
       "0           1.0       50.0\n",
       "1           2.0       50.0\n",
       "2           2.0       77.0\n",
       "3           2.0       50.0\n",
       "4           4.0       95.0\n",
       "...         ...        ...\n",
       "12763       1.0       80.0\n",
       "12764       3.0       80.0\n",
       "12765       2.0       50.0\n",
       "12766       2.0       70.0\n",
       "12767       4.0       89.0\n",
       "\n",
       "[12768 rows x 2 columns]"
      ]
     },
     "execution_count": 66,
     "metadata": {},
     "output_type": "execute_result"
    }
   ],
   "source": [
    "#Creamos un dataset con solo las columnas Beds_new y Price_new\n",
    "prueba_reg7 = df[['Beds_new', 'Price_new']]\n",
    "\n",
    "prueba_reg7"
   ]
  },
  {
   "cell_type": "code",
   "execution_count": 67,
   "id": "5305a3f6",
   "metadata": {},
   "outputs": [],
   "source": [
    "# Definimos las dos variables X, y  con las columnas del dataset que elegimos.\n",
    "\n",
    "X = prueba_reg7['Beds_new']    \n",
    "y = prueba_reg7['Price_new']"
   ]
  },
  {
   "cell_type": "code",
   "execution_count": 68,
   "id": "7437f85e",
   "metadata": {},
   "outputs": [
    {
     "data": {
      "text/plain": [
       "5911     1.0\n",
       "3536     1.0\n",
       "5201     1.0\n",
       "11215    2.0\n",
       "9508     1.0\n",
       "        ... \n",
       "9704     3.0\n",
       "11190    1.0\n",
       "10185    1.0\n",
       "9256     1.0\n",
       "8787     2.0\n",
       "Name: Beds_new, Length: 7660, dtype: float64"
      ]
     },
     "execution_count": 68,
     "metadata": {},
     "output_type": "execute_result"
    }
   ],
   "source": [
    "# Dividimos el dataset en df de training y df de testing \n",
    "\n",
    "from sklearn.model_selection import train_test_split\n",
    "\n",
    "X_train, X_test, y_train, y_test = train_test_split(X, y, test_size= 0.4, random_state= 23)\n",
    "\n",
    "X_train"
   ]
  },
  {
   "cell_type": "code",
   "execution_count": 69,
   "id": "16055505",
   "metadata": {},
   "outputs": [
    {
     "data": {
      "text/plain": [
       "array([[1.],\n",
       "       [1.],\n",
       "       [1.],\n",
       "       ...,\n",
       "       [1.],\n",
       "       [1.],\n",
       "       [2.]])"
      ]
     },
     "execution_count": 69,
     "metadata": {},
     "output_type": "execute_result"
    }
   ],
   "source": [
    "# Modificamos el shape del output X_train y X_test para que sea bidimensional\n",
    "\n",
    "X_train = np.array(X_train).reshape(-1, 1)\n",
    "\n",
    "X_train"
   ]
  },
  {
   "cell_type": "code",
   "execution_count": 70,
   "id": "1389e31f",
   "metadata": {},
   "outputs": [
    {
     "data": {
      "text/plain": [
       "array([[1.],\n",
       "       [1.],\n",
       "       [1.],\n",
       "       ...,\n",
       "       [1.],\n",
       "       [1.],\n",
       "       [2.]])"
      ]
     },
     "execution_count": 70,
     "metadata": {},
     "output_type": "execute_result"
    }
   ],
   "source": [
    "# Modificamos el shape del output X_train y X_test para que sea bidimensional\n",
    "\n",
    "X_test = np.array(X_train).reshape(-1, 1)\n",
    "\n",
    "X_test"
   ]
  },
  {
   "cell_type": "code",
   "execution_count": 71,
   "id": "7d27e69e",
   "metadata": {},
   "outputs": [],
   "source": [
    "from sklearn.linear_model import LinearRegression\n",
    "\n",
    "# Ponemos la funcion LinearRegression en una variable llamada lr \n",
    "\n",
    "lr = LinearRegression()"
   ]
  },
  {
   "cell_type": "code",
   "execution_count": 72,
   "id": "90784ee2",
   "metadata": {},
   "outputs": [
    {
     "data": {
      "text/plain": [
       "LinearRegression()"
      ]
     },
     "execution_count": 72,
     "metadata": {},
     "output_type": "execute_result"
    }
   ],
   "source": [
    "# Ejecutamos el fitting de los datos X_train y y_train \n",
    "\n",
    "lr.fit(X_train, y_train)"
   ]
  },
  {
   "cell_type": "code",
   "execution_count": 73,
   "id": "d74d25d1",
   "metadata": {},
   "outputs": [
    {
     "data": {
      "text/plain": [
       "31.02717952567818"
      ]
     },
     "execution_count": 73,
     "metadata": {},
     "output_type": "execute_result"
    }
   ],
   "source": [
    "# Calcular valor c (interception)\n",
    "\n",
    "c= lr.intercept_\n",
    "\n",
    "c"
   ]
  },
  {
   "cell_type": "code",
   "execution_count": 74,
   "id": "d1db78ba",
   "metadata": {},
   "outputs": [
    {
     "data": {
      "text/plain": [
       "array([17.53554278])"
      ]
     },
     "execution_count": 74,
     "metadata": {},
     "output_type": "execute_result"
    }
   ],
   "source": [
    "# Calcular valor m (coefficient / slope of the regression line)\n",
    "\n",
    "m= lr.coef_ \n",
    "\n",
    "m"
   ]
  },
  {
   "cell_type": "code",
   "execution_count": 75,
   "id": "3ad0f535",
   "metadata": {},
   "outputs": [
    {
     "data": {
      "text/plain": [
       "array([48.56272231, 48.56272231, 48.56272231, ..., 48.56272231,\n",
       "       48.56272231, 66.09826509])"
      ]
     },
     "execution_count": 75,
     "metadata": {},
     "output_type": "execute_result"
    }
   ],
   "source": [
    "# En la libreria sklearn usamos la funcion predict() para hacer la prediccion de la variable Y, osea Price_New\n",
    "\n",
    "y_pred_train7 = lr.predict(X_train)\n",
    "\n",
    "y_pred_train7"
   ]
  },
  {
   "cell_type": "code",
   "execution_count": 77,
   "id": "909e2ca5",
   "metadata": {},
   "outputs": [
    {
     "data": {
      "image/png": "[encoded data removed]",
      "text/plain": [
       "<Figure size 640x480 with 1 Axes>"
      ]
     },
     "metadata": {},
     "output_type": "display_data"
    }
   ],
   "source": [
    "# Hacemos el grafico scatter + linea de Regresion \n",
    "\n",
    "import matplotlib.pyplot as plt\n",
    "\n",
    "plt.scatter(X_train, y_train)\n",
    "plt.plot(X_train, y_pred_train7, color='red')\n",
    "plt.xlabel('Beds_new')\n",
    "plt.ylabel('Price_new')\n",
    "\n",
    "plt.show()"
   ]
  },
  {
   "cell_type": "code",
   "execution_count": null,
   "id": "bc58c044",
   "metadata": {},
   "outputs": [],
   "source": []
  }
 ],
 "metadata": {
  "kernelspec": {
   "display_name": "Python 3 (ipykernel)",
   "language": "python",
   "name": "python3"
  },
  "language_info": {
   "codemirror_mode": {
    "name": "ipython",
    "version": 3
   },
   "file_extension": ".py",
   "mimetype": "text/x-python",
   "name": "python",
   "nbconvert_exporter": "python",
   "pygments_lexer": "ipython3",
   "version": "3.9.13"
  }
 },
 "nbformat": 4,
 "nbformat_minor": 5
}
