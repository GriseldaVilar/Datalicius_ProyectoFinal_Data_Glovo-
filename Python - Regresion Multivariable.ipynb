{
 "cells": [
  {
   "cell_type": "markdown",
   "id": "1c4126d3",
   "metadata": {},
   "source": [
    "-  REGRESION LINEAR Python Sklearn  - \n",
    "    MULTI VARIABLES\n",
    "    \n",
    "    Formula de Regresion Linear con multiplas variables : Y = m1X1 + m2X2, + m3X3....mnXn + C \n",
    "                                                         \n",
    "                                                     donde X1, X2, X3 son las variables que vamos a elegir\n",
    "                                                      y m1, m2, m3 son los parametros Slope de cada variable que calcularemos \n",
    "                                                      y c es el valor intercept \n",
    "    \n",
    "     Y = variable dependiente (columna: Price_new)\n",
    "     X =  multi variables independientes (columnas: Number of Reviews, Bedrooms_new, Bathrooms_new) "
   ]
  },
  {
   "cell_type": "code",
   "execution_count": 1,
   "id": "b03d2faf",
   "metadata": {
    "scrolled": true
   },
   "outputs": [
    {
     "data": {
      "text/html": [
       "<div>\n",
       "<style scoped>\n",
       "    .dataframe tbody tr th:only-of-type {\n",
       "        vertical-align: middle;\n",
       "    }\n",
       "\n",
       "    .dataframe tbody tr th {\n",
       "        vertical-align: top;\n",
       "    }\n",
       "\n",
       "    .dataframe thead th {\n",
       "        text-align: right;\n",
       "    }\n",
       "</style>\n",
       "<table border=\"1\" class=\"dataframe\">\n",
       "  <thead>\n",
       "    <tr style=\"text-align: right;\">\n",
       "      <th></th>\n",
       "      <th>Unnamed: 0</th>\n",
       "      <th>ID</th>\n",
       "      <th>Listing Url</th>\n",
       "      <th>Name</th>\n",
       "      <th>Description</th>\n",
       "      <th>Host ID</th>\n",
       "      <th>Host Since</th>\n",
       "      <th>Host Response Rate</th>\n",
       "      <th>Host Total Listings Count</th>\n",
       "      <th>Host Verifications</th>\n",
       "      <th>...</th>\n",
       "      <th>Calculated host listings count</th>\n",
       "      <th>Geolocation</th>\n",
       "      <th>Price_new</th>\n",
       "      <th>Price_new_weekly</th>\n",
       "      <th>Price_new_monthly</th>\n",
       "      <th>Beds_new</th>\n",
       "      <th>Bedrooms_new</th>\n",
       "      <th>Bathrooms_new</th>\n",
       "      <th>Is Super Host</th>\n",
       "      <th>Is Super Host YES/NO</th>\n",
       "    </tr>\n",
       "  </thead>\n",
       "  <tbody>\n",
       "    <tr>\n",
       "      <th>0</th>\n",
       "      <td>0</td>\n",
       "      <td>15141125</td>\n",
       "      <td>https://www.airbnb.com/rooms/15141125</td>\n",
       "      <td>Panoramic charming studio!</td>\n",
       "      <td>Charming bright and cosy studio in \"El Rastro\"...</td>\n",
       "      <td>96019257</td>\n",
       "      <td>2016-09-20</td>\n",
       "      <td>100.0</td>\n",
       "      <td>2.0</td>\n",
       "      <td>email,phone,facebook,reviews,jumio,government_id</td>\n",
       "      <td>...</td>\n",
       "      <td>2.0</td>\n",
       "      <td>40.40745268477803, -3.7079954754432634</td>\n",
       "      <td>50.0</td>\n",
       "      <td>350.0</td>\n",
       "      <td>1500.0</td>\n",
       "      <td>1.0</td>\n",
       "      <td>0.0</td>\n",
       "      <td>1.0</td>\n",
       "      <td>True</td>\n",
       "      <td>Yes</td>\n",
       "    </tr>\n",
       "    <tr>\n",
       "      <th>1</th>\n",
       "      <td>1</td>\n",
       "      <td>9470166</td>\n",
       "      <td>https://www.airbnb.com/rooms/9470166</td>\n",
       "      <td>Comfortable penthouse in the center</td>\n",
       "      <td>In the center, recently remodeled, comfortable...</td>\n",
       "      <td>9885245</td>\n",
       "      <td>2013-11-08</td>\n",
       "      <td>100.0</td>\n",
       "      <td>13.0</td>\n",
       "      <td>email,phone,reviews,jumio</td>\n",
       "      <td>...</td>\n",
       "      <td>13.0</td>\n",
       "      <td>40.40831556101927, -3.705006385704201</td>\n",
       "      <td>50.0</td>\n",
       "      <td>350.0</td>\n",
       "      <td>1500.0</td>\n",
       "      <td>2.0</td>\n",
       "      <td>1.0</td>\n",
       "      <td>1.0</td>\n",
       "      <td>False</td>\n",
       "      <td>No</td>\n",
       "    </tr>\n",
       "    <tr>\n",
       "      <th>2</th>\n",
       "      <td>2</td>\n",
       "      <td>17444981</td>\n",
       "      <td>https://www.airbnb.com/rooms/17444981</td>\n",
       "      <td>Cosy Apartment SOL/LA LATINA</td>\n",
       "      <td>Nice apartment near Sol and La Latina. Perfect...</td>\n",
       "      <td>118059488</td>\n",
       "      <td>2017-02-25</td>\n",
       "      <td>100.0</td>\n",
       "      <td>1.0</td>\n",
       "      <td>email,phone,facebook,reviews,jumio,offline_gov...</td>\n",
       "      <td>...</td>\n",
       "      <td>1.0</td>\n",
       "      <td>40.413722014584295, -3.7068231186536718</td>\n",
       "      <td>77.0</td>\n",
       "      <td>539.0</td>\n",
       "      <td>2310.0</td>\n",
       "      <td>2.0</td>\n",
       "      <td>1.0</td>\n",
       "      <td>1.5</td>\n",
       "      <td>False</td>\n",
       "      <td>No</td>\n",
       "    </tr>\n",
       "    <tr>\n",
       "      <th>3</th>\n",
       "      <td>3</td>\n",
       "      <td>3284565</td>\n",
       "      <td>https://www.airbnb.com/rooms/3284565</td>\n",
       "      <td>Alquiler Estudio Nuevo Madrid</td>\n",
       "      <td>Alquilo estudio en el centro de Madrid , total...</td>\n",
       "      <td>1892467</td>\n",
       "      <td>2012-03-09</td>\n",
       "      <td>100.0</td>\n",
       "      <td>3.0</td>\n",
       "      <td>email,phone,reviews,jumio,government_id</td>\n",
       "      <td>...</td>\n",
       "      <td>3.0</td>\n",
       "      <td>40.411263372718054, -3.6973054373712886</td>\n",
       "      <td>50.0</td>\n",
       "      <td>300.0</td>\n",
       "      <td>740.0</td>\n",
       "      <td>2.0</td>\n",
       "      <td>1.0</td>\n",
       "      <td>1.0</td>\n",
       "      <td>False</td>\n",
       "      <td>No</td>\n",
       "    </tr>\n",
       "    <tr>\n",
       "      <th>4</th>\n",
       "      <td>4</td>\n",
       "      <td>499911</td>\n",
       "      <td>https://www.airbnb.com/rooms/499911</td>\n",
       "      <td>2 bedroom apartment downtown Madrid</td>\n",
       "      <td>Bright and airy apartment in Central Madrid re...</td>\n",
       "      <td>2467212</td>\n",
       "      <td>2012-05-26</td>\n",
       "      <td>100.0</td>\n",
       "      <td>1.0</td>\n",
       "      <td>email,phone,facebook,reviews,jumio</td>\n",
       "      <td>...</td>\n",
       "      <td>1.0</td>\n",
       "      <td>40.41255625665078, -3.701155364799422</td>\n",
       "      <td>95.0</td>\n",
       "      <td>590.0</td>\n",
       "      <td>2850.0</td>\n",
       "      <td>4.0</td>\n",
       "      <td>2.0</td>\n",
       "      <td>1.0</td>\n",
       "      <td>True</td>\n",
       "      <td>Yes</td>\n",
       "    </tr>\n",
       "  </tbody>\n",
       "</table>\n",
       "<p>5 rows × 43 columns</p>\n",
       "</div>"
      ],
      "text/plain": [
       "   Unnamed: 0        ID                            Listing Url  \\\n",
       "0           0  15141125  https://www.airbnb.com/rooms/15141125   \n",
       "1           1   9470166   https://www.airbnb.com/rooms/9470166   \n",
       "2           2  17444981  https://www.airbnb.com/rooms/17444981   \n",
       "3           3   3284565   https://www.airbnb.com/rooms/3284565   \n",
       "4           4    499911    https://www.airbnb.com/rooms/499911   \n",
       "\n",
       "                                  Name  \\\n",
       "0           Panoramic charming studio!   \n",
       "1  Comfortable penthouse in the center   \n",
       "2         Cosy Apartment SOL/LA LATINA   \n",
       "3        Alquiler Estudio Nuevo Madrid   \n",
       "4  2 bedroom apartment downtown Madrid   \n",
       "\n",
       "                                         Description    Host ID  Host Since  \\\n",
       "0  Charming bright and cosy studio in \"El Rastro\"...   96019257  2016-09-20   \n",
       "1  In the center, recently remodeled, comfortable...    9885245  2013-11-08   \n",
       "2  Nice apartment near Sol and La Latina. Perfect...  118059488  2017-02-25   \n",
       "3  Alquilo estudio en el centro de Madrid , total...    1892467  2012-03-09   \n",
       "4  Bright and airy apartment in Central Madrid re...    2467212  2012-05-26   \n",
       "\n",
       "  Host Response Rate Host Total Listings Count  \\\n",
       "0              100.0                       2.0   \n",
       "1              100.0                      13.0   \n",
       "2              100.0                       1.0   \n",
       "3              100.0                       3.0   \n",
       "4              100.0                       1.0   \n",
       "\n",
       "                                  Host Verifications  ...  \\\n",
       "0   email,phone,facebook,reviews,jumio,government_id  ...   \n",
       "1                          email,phone,reviews,jumio  ...   \n",
       "2  email,phone,facebook,reviews,jumio,offline_gov...  ...   \n",
       "3            email,phone,reviews,jumio,government_id  ...   \n",
       "4                 email,phone,facebook,reviews,jumio  ...   \n",
       "\n",
       "  Calculated host listings count                              Geolocation  \\\n",
       "0                            2.0   40.40745268477803, -3.7079954754432634   \n",
       "1                           13.0    40.40831556101927, -3.705006385704201   \n",
       "2                            1.0  40.413722014584295, -3.7068231186536718   \n",
       "3                            3.0  40.411263372718054, -3.6973054373712886   \n",
       "4                            1.0    40.41255625665078, -3.701155364799422   \n",
       "\n",
       "  Price_new Price_new_weekly Price_new_monthly Beds_new Bedrooms_new  \\\n",
       "0      50.0            350.0            1500.0      1.0          0.0   \n",
       "1      50.0            350.0            1500.0      2.0          1.0   \n",
       "2      77.0            539.0            2310.0      2.0          1.0   \n",
       "3      50.0            300.0             740.0      2.0          1.0   \n",
       "4      95.0            590.0            2850.0      4.0          2.0   \n",
       "\n",
       "  Bathrooms_new Is Super Host Is Super Host YES/NO  \n",
       "0           1.0          True                  Yes  \n",
       "1           1.0         False                   No  \n",
       "2           1.5         False                   No  \n",
       "3           1.0         False                   No  \n",
       "4           1.0          True                  Yes  \n",
       "\n",
       "[5 rows x 43 columns]"
      ]
     },
     "execution_count": 1,
     "metadata": {},
     "output_type": "execute_result"
    }
   ],
   "source": [
    "import pandas as pd\n",
    "\n",
    "#Import data set\n",
    "df = pd.read_csv(r\"C:\\Users\\Jo\\Desktop\\Data Analytics\\data analytics\\Glovo_bootcamp\\Proyecto Final\\Proyecto_Final\\df_madridfinal.csv\", sep=\",\")\n",
    "df.head()"
   ]
  },
  {
   "cell_type": "code",
   "execution_count": 2,
   "id": "42f7a2f1",
   "metadata": {
    "collapsed": true
   },
   "outputs": [
    {
     "data": {
      "text/html": [
       "<div>\n",
       "<style scoped>\n",
       "    .dataframe tbody tr th:only-of-type {\n",
       "        vertical-align: middle;\n",
       "    }\n",
       "\n",
       "    .dataframe tbody tr th {\n",
       "        vertical-align: top;\n",
       "    }\n",
       "\n",
       "    .dataframe thead th {\n",
       "        text-align: right;\n",
       "    }\n",
       "</style>\n",
       "<table border=\"1\" class=\"dataframe\">\n",
       "  <thead>\n",
       "    <tr style=\"text-align: right;\">\n",
       "      <th></th>\n",
       "      <th>Number of Reviews</th>\n",
       "      <th>Bedrooms_new</th>\n",
       "      <th>Bathrooms_new</th>\n",
       "      <th>Price_new</th>\n",
       "    </tr>\n",
       "  </thead>\n",
       "  <tbody>\n",
       "    <tr>\n",
       "      <th>0</th>\n",
       "      <td>30</td>\n",
       "      <td>0.0</td>\n",
       "      <td>1.0</td>\n",
       "      <td>50.0</td>\n",
       "    </tr>\n",
       "    <tr>\n",
       "      <th>1</th>\n",
       "      <td>97</td>\n",
       "      <td>1.0</td>\n",
       "      <td>1.0</td>\n",
       "      <td>50.0</td>\n",
       "    </tr>\n",
       "    <tr>\n",
       "      <th>2</th>\n",
       "      <td>7</td>\n",
       "      <td>1.0</td>\n",
       "      <td>1.5</td>\n",
       "      <td>77.0</td>\n",
       "    </tr>\n",
       "    <tr>\n",
       "      <th>3</th>\n",
       "      <td>6</td>\n",
       "      <td>1.0</td>\n",
       "      <td>1.0</td>\n",
       "      <td>50.0</td>\n",
       "    </tr>\n",
       "    <tr>\n",
       "      <th>4</th>\n",
       "      <td>72</td>\n",
       "      <td>2.0</td>\n",
       "      <td>1.0</td>\n",
       "      <td>95.0</td>\n",
       "    </tr>\n",
       "    <tr>\n",
       "      <th>...</th>\n",
       "      <td>...</td>\n",
       "      <td>...</td>\n",
       "      <td>...</td>\n",
       "      <td>...</td>\n",
       "    </tr>\n",
       "    <tr>\n",
       "      <th>12763</th>\n",
       "      <td>11</td>\n",
       "      <td>1.0</td>\n",
       "      <td>1.0</td>\n",
       "      <td>80.0</td>\n",
       "    </tr>\n",
       "    <tr>\n",
       "      <th>12764</th>\n",
       "      <td>85</td>\n",
       "      <td>1.0</td>\n",
       "      <td>1.0</td>\n",
       "      <td>80.0</td>\n",
       "    </tr>\n",
       "    <tr>\n",
       "      <th>12765</th>\n",
       "      <td>1</td>\n",
       "      <td>1.0</td>\n",
       "      <td>2.0</td>\n",
       "      <td>50.0</td>\n",
       "    </tr>\n",
       "    <tr>\n",
       "      <th>12766</th>\n",
       "      <td>122</td>\n",
       "      <td>1.0</td>\n",
       "      <td>1.0</td>\n",
       "      <td>70.0</td>\n",
       "    </tr>\n",
       "    <tr>\n",
       "      <th>12767</th>\n",
       "      <td>89</td>\n",
       "      <td>2.0</td>\n",
       "      <td>1.0</td>\n",
       "      <td>89.0</td>\n",
       "    </tr>\n",
       "  </tbody>\n",
       "</table>\n",
       "<p>12768 rows × 4 columns</p>\n",
       "</div>"
      ],
      "text/plain": [
       "       Number of Reviews  Bedrooms_new  Bathrooms_new  Price_new\n",
       "0                     30           0.0            1.0       50.0\n",
       "1                     97           1.0            1.0       50.0\n",
       "2                      7           1.0            1.5       77.0\n",
       "3                      6           1.0            1.0       50.0\n",
       "4                     72           2.0            1.0       95.0\n",
       "...                  ...           ...            ...        ...\n",
       "12763                 11           1.0            1.0       80.0\n",
       "12764                 85           1.0            1.0       80.0\n",
       "12765                  1           1.0            2.0       50.0\n",
       "12766                122           1.0            1.0       70.0\n",
       "12767                 89           2.0            1.0       89.0\n",
       "\n",
       "[12768 rows x 4 columns]"
      ]
     },
     "execution_count": 2,
     "metadata": {},
     "output_type": "execute_result"
    }
   ],
   "source": [
    "#Creamos un dataset con solo las columnas que nos sirven para hacer la regresion linear\n",
    "prueba_rlm = df[['Number of Reviews', 'Bedrooms_new', 'Bathrooms_new', 'Price_new']]\n",
    "\n",
    "prueba_rlm"
   ]
  },
  {
   "cell_type": "code",
   "execution_count": 3,
   "id": "63eb7cd0",
   "metadata": {
    "collapsed": true
   },
   "outputs": [
    {
     "data": {
      "text/html": [
       "<div>\n",
       "<style scoped>\n",
       "    .dataframe tbody tr th:only-of-type {\n",
       "        vertical-align: middle;\n",
       "    }\n",
       "\n",
       "    .dataframe tbody tr th {\n",
       "        vertical-align: top;\n",
       "    }\n",
       "\n",
       "    .dataframe thead th {\n",
       "        text-align: right;\n",
       "    }\n",
       "</style>\n",
       "<table border=\"1\" class=\"dataframe\">\n",
       "  <thead>\n",
       "    <tr style=\"text-align: right;\">\n",
       "      <th></th>\n",
       "      <th>Number of Reviews</th>\n",
       "      <th>Bedrooms_new</th>\n",
       "      <th>Bathrooms_new</th>\n",
       "    </tr>\n",
       "  </thead>\n",
       "  <tbody>\n",
       "    <tr>\n",
       "      <th>0</th>\n",
       "      <td>30</td>\n",
       "      <td>0.0</td>\n",
       "      <td>1.0</td>\n",
       "    </tr>\n",
       "    <tr>\n",
       "      <th>1</th>\n",
       "      <td>97</td>\n",
       "      <td>1.0</td>\n",
       "      <td>1.0</td>\n",
       "    </tr>\n",
       "    <tr>\n",
       "      <th>2</th>\n",
       "      <td>7</td>\n",
       "      <td>1.0</td>\n",
       "      <td>1.5</td>\n",
       "    </tr>\n",
       "    <tr>\n",
       "      <th>3</th>\n",
       "      <td>6</td>\n",
       "      <td>1.0</td>\n",
       "      <td>1.0</td>\n",
       "    </tr>\n",
       "    <tr>\n",
       "      <th>4</th>\n",
       "      <td>72</td>\n",
       "      <td>2.0</td>\n",
       "      <td>1.0</td>\n",
       "    </tr>\n",
       "    <tr>\n",
       "      <th>...</th>\n",
       "      <td>...</td>\n",
       "      <td>...</td>\n",
       "      <td>...</td>\n",
       "    </tr>\n",
       "    <tr>\n",
       "      <th>12763</th>\n",
       "      <td>11</td>\n",
       "      <td>1.0</td>\n",
       "      <td>1.0</td>\n",
       "    </tr>\n",
       "    <tr>\n",
       "      <th>12764</th>\n",
       "      <td>85</td>\n",
       "      <td>1.0</td>\n",
       "      <td>1.0</td>\n",
       "    </tr>\n",
       "    <tr>\n",
       "      <th>12765</th>\n",
       "      <td>1</td>\n",
       "      <td>1.0</td>\n",
       "      <td>2.0</td>\n",
       "    </tr>\n",
       "    <tr>\n",
       "      <th>12766</th>\n",
       "      <td>122</td>\n",
       "      <td>1.0</td>\n",
       "      <td>1.0</td>\n",
       "    </tr>\n",
       "    <tr>\n",
       "      <th>12767</th>\n",
       "      <td>89</td>\n",
       "      <td>2.0</td>\n",
       "      <td>1.0</td>\n",
       "    </tr>\n",
       "  </tbody>\n",
       "</table>\n",
       "<p>12768 rows × 3 columns</p>\n",
       "</div>"
      ],
      "text/plain": [
       "       Number of Reviews  Bedrooms_new  Bathrooms_new\n",
       "0                     30           0.0            1.0\n",
       "1                     97           1.0            1.0\n",
       "2                      7           1.0            1.5\n",
       "3                      6           1.0            1.0\n",
       "4                     72           2.0            1.0\n",
       "...                  ...           ...            ...\n",
       "12763                 11           1.0            1.0\n",
       "12764                 85           1.0            1.0\n",
       "12765                  1           1.0            2.0\n",
       "12766                122           1.0            1.0\n",
       "12767                 89           2.0            1.0\n",
       "\n",
       "[12768 rows x 3 columns]"
      ]
     },
     "execution_count": 3,
     "metadata": {},
     "output_type": "execute_result"
    }
   ],
   "source": [
    "# Definimos el dataset de X con solo las columnas que nos sirven y excluyendo 'Price_new' que sera' la variable Y\n",
    "\n",
    "X = prueba_rlm.drop(columns = 'Price_new')\n",
    "\n",
    "X"
   ]
  },
  {
   "cell_type": "code",
   "execution_count": 4,
   "id": "554a6389",
   "metadata": {
    "collapsed": true
   },
   "outputs": [
    {
     "data": {
      "text/plain": [
       "0        50.0\n",
       "1        50.0\n",
       "2        77.0\n",
       "3        50.0\n",
       "4        95.0\n",
       "         ... \n",
       "12763    80.0\n",
       "12764    80.0\n",
       "12765    50.0\n",
       "12766    70.0\n",
       "12767    89.0\n",
       "Name: Price_new, Length: 12768, dtype: float64"
      ]
     },
     "execution_count": 4,
     "metadata": {},
     "output_type": "execute_result"
    }
   ],
   "source": [
    "# Definimos el dataset de Y osea la columna Price_new\n",
    "\n",
    "y = prueba_rlm['Price_new']\n",
    "\n",
    "y"
   ]
  },
  {
   "cell_type": "code",
   "execution_count": 5,
   "id": "37441328",
   "metadata": {
    "collapsed": true
   },
   "outputs": [],
   "source": [
    "# Dividimos el dataset en df de training y df de testing \n",
    "\n",
    "from sklearn.model_selection import train_test_split\n",
    "\n",
    "X_train, X_test, y_train, y_test = train_test_split(X, y, test_size= 0.3, random_state= 0)\n"
   ]
  },
  {
   "cell_type": "code",
   "execution_count": 6,
   "id": "d4fd1055",
   "metadata": {
    "collapsed": true
   },
   "outputs": [],
   "source": [
    "# Vamos a usar la funcion Linear Regression de la libreria sklearn.linear_model\n",
    "\n",
    "from sklearn.linear_model import LinearRegression\n",
    "\n",
    "# Ponemos la funcion LinearRegression en una variable llamada lr \n",
    "\n",
    "lr = LinearRegression()"
   ]
  },
  {
   "cell_type": "code",
   "execution_count": 7,
   "id": "9ad604af",
   "metadata": {
    "collapsed": true
   },
   "outputs": [
    {
     "data": {
      "text/plain": [
       "LinearRegression()"
      ]
     },
     "execution_count": 7,
     "metadata": {},
     "output_type": "execute_result"
    }
   ],
   "source": [
    "# Ejecutamos el fitting de los datos X_train y y_train \n",
    "\n",
    "lr.fit(X_train, y_train)"
   ]
  },
  {
   "cell_type": "code",
   "execution_count": 8,
   "id": "50bd0057",
   "metadata": {
    "collapsed": true
   },
   "outputs": [
    {
     "data": {
      "text/plain": [
       "9.251112220985846"
      ]
     },
     "execution_count": 8,
     "metadata": {},
     "output_type": "execute_result"
    }
   ],
   "source": [
    "# Calcular valor c (interception)\n",
    "\n",
    "c= lr.intercept_\n",
    "\n",
    "c"
   ]
  },
  {
   "cell_type": "code",
   "execution_count": 9,
   "id": "4fc9814d",
   "metadata": {
    "collapsed": true
   },
   "outputs": [
    {
     "data": {
      "text/plain": [
       "array([-1.38276317e-02,  3.11045957e+01,  1.33883455e+01])"
      ]
     },
     "execution_count": 9,
     "metadata": {},
     "output_type": "execute_result"
    }
   ],
   "source": [
    "# Calcular valor m (coefficient / slope of the regression line)\n",
    "\n",
    "m= lr.coef_ \n",
    "\n",
    "m"
   ]
  },
  {
   "cell_type": "code",
   "execution_count": 12,
   "id": "750e8eb1",
   "metadata": {},
   "outputs": [
    {
     "data": {
      "text/plain": [
       "array([84.82099387, 53.74405342, 53.24625868, ..., 53.73022579,\n",
       "       98.08489067, 84.84864913])"
      ]
     },
     "execution_count": 12,
     "metadata": {},
     "output_type": "execute_result"
    }
   ],
   "source": [
    "# En la libreria sklearn usamos la funcion predict() para hacer la prediccion de la variable Y, osea Price_New\n",
    "\n",
    "y_pred_train = lr.predict(X_train)\n",
    "\n",
    "y_pred_train"
   ]
  },
  {
   "cell_type": "code",
   "execution_count": 13,
   "id": "1faf91eb",
   "metadata": {},
   "outputs": [
    {
     "data": {
      "image/png": "[encoded data removed]",
      "text/plain": [
       "<Figure size 640x480 with 1 Axes>"
      ]
     },
     "metadata": {},
     "output_type": "display_data"
    }
   ],
   "source": [
    "# Hacemos el grafico scatter  \n",
    "\n",
    "import matplotlib.pyplot as plt\n",
    "\n",
    "plt.scatter(y_train, y_pred_train)\n",
    "plt.xlabel('Precio Actual')\n",
    "plt.ylabel('Predicción Precio')\n",
    "plt.show()\n"
   ]
  },
  {
   "cell_type": "code",
   "execution_count": 14,
   "id": "9850cd91",
   "metadata": {},
   "outputs": [
    {
     "data": {
      "text/plain": [
       "0.29125478341929467"
      ]
     },
     "execution_count": 14,
     "metadata": {},
     "output_type": "execute_result"
    }
   ],
   "source": [
    "# Para verificar si las predicciones son correctas usamos una libreria de sklearn, sklearn.metrics y la function r2_score()\n",
    "\n",
    "from sklearn.metrics import r2_score\n",
    "\n",
    "r2_score(y_train, y_pred_train)\n"
   ]
  },
  {
   "cell_type": "markdown",
   "id": "288596bd",
   "metadata": {},
   "source": [
    "El output de la function r2_score nos indica cuanto los datos se conforman con la linea de regresion calculada.\n",
    " \n",
    "Es el coeficiente de determinación, también denominado puntuación R2, y se utiliza para evaluar el rendimiento de un modelo de regresión lineal. Es la cantidad de variación en la variable dependiente de salida que se puede predecir a partir de la(s) variable(s) independiente(s) de entrada.  \n",
    "\n",
    "Osea cuantas variacion tenemos en las predicciones de precios (Price_new = variable dependiente) a partir de las variables independientes (Number of Reviews, Bedrooms_new, Bathrooms_new)  \n",
    "\n",
    "Un valor más alto de R2 es deseable, ya que indica mejores resultados.\n",
    "\n",
    "En este caso tenemos 0.29 entonces el resultado del model es imperfecto. \n",
    "\n",
    "Conclusiones:\n",
    "\n",
    "La mejor puntuación posible es 1, que se obtiene cuando los valores predichos coinciden con los valores reales.\n",
    "La puntuación R2 del modelo de referencia (baseline)  es 0.\n",
    "En los peores casos, la puntuación R2 puede ser incluso negativa.\n",
    " "
   ]
  }
 ],
 "metadata": {
  "kernelspec": {
   "display_name": "Python 3 (ipykernel)",
   "language": "python",
   "name": "python3"
  },
  "language_info": {
   "codemirror_mode": {
    "name": "ipython",
    "version": 3
   },
   "file_extension": ".py",
   "mimetype": "text/x-python",
   "name": "python",
   "nbconvert_exporter": "python",
   "pygments_lexer": "ipython3",
   "version": "3.9.13"
  }
 },
 "nbformat": 4,
 "nbformat_minor": 5
}
